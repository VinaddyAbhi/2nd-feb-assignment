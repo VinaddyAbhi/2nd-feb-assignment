{
 "cells": [
  {
   "cell_type": "markdown",
   "id": "43a99807-00fe-473d-a82e-587c5c30322c",
   "metadata": {},
   "source": [
    "# 2nd Feb Assignment"
   ]
  },
  {
   "cell_type": "markdown",
   "id": "e31586b8-9347-4739-aa6e-de3e2afec25f",
   "metadata": {},
   "source": [
    "***"
   ]
  },
  {
   "cell_type": "code",
   "execution_count": 3,
   "id": "2e12ed70-3f23-4a7b-b5a5-bf847bb29ddd",
   "metadata": {},
   "outputs": [
    {
     "name": "stdout",
     "output_type": "stream",
     "text": [
      "Chemistry\n",
      "Physics\n",
      "Maths\n",
      "General Knowledge\n",
      "polity\n"
     ]
    }
   ],
   "source": [
    "#Q.1 Explain with an example each when to use for loop and while loop\\\n",
    "# Ans = For Loop we will execute N number of steps perform in single line.\n",
    "# Eg: for loop below.\n",
    "\n",
    "Books = [\"Chemistry\",\"Physics\",\"Maths\",\"General Knowledge\",\"polity\"]\n",
    "for i in Books:\n",
    "    print(i)\n",
    "\n"
   ]
  },
  {
   "cell_type": "code",
   "execution_count": 5,
   "id": "f15fb0cd-6178-49e1-97f7-a0dd13d27a1f",
   "metadata": {},
   "outputs": [
    {
     "name": "stdout",
     "output_type": "stream",
     "text": [
      "1\n",
      "2\n",
      "3\n",
      "4\n",
      "5\n",
      "6\n",
      "7\n"
     ]
    }
   ],
   "source": [
    "# now for while loop\n",
    "# so while loop execute N number of steps in more than one line\n",
    "#Eg: while loop.\n",
    "\n",
    "i = 1\n",
    "while i < 8:\n",
    "    print(i)\n",
    "    i +=1\n",
    "    "
   ]
  },
  {
   "cell_type": "code",
   "execution_count": 6,
   "id": "2023be37-30da-47e5-9cb7-9ac2ffb155a7",
   "metadata": {},
   "outputs": [],
   "source": [
    "# Q.2 Write a python program to print the sum and product of the first 10 natural numbers using for and while loop.\n",
    "\n",
    "#Ans. Example sum of the first 10 natural numbers by using for loop.\n",
    "\n",
    "\n",
    "l = [1,2,3,4,5,6,7,8,9,10]\n"
   ]
  },
  {
   "cell_type": "code",
   "execution_count": 7,
   "id": "76c0e551-7351-4dd8-b7e6-9dd17cf377ca",
   "metadata": {},
   "outputs": [
    {
     "data": {
      "text/plain": [
       "55"
      ]
     },
     "execution_count": 7,
     "metadata": {},
     "output_type": "execute_result"
    }
   ],
   "source": [
    "result = 0\n",
    "for i in l:\n",
    "    result = result +i\n",
    "result\n",
    "    "
   ]
  },
  {
   "cell_type": "code",
   "execution_count": 8,
   "id": "f0115f20-68ab-414f-8fbb-5b83b1af402f",
   "metadata": {},
   "outputs": [
    {
     "data": {
      "text/plain": [
       "0"
      ]
     },
     "execution_count": 8,
     "metadata": {},
     "output_type": "execute_result"
    }
   ],
   "source": [
    "# now for product while using for loop\n",
    "\n",
    "result = 0\n",
    "for i in l:\n",
    "    result = result *i\n",
    "result\n"
   ]
  },
  {
   "cell_type": "code",
   "execution_count": 4,
   "id": "83b67433-354b-4660-a49a-8ae3ec0d039a",
   "metadata": {},
   "outputs": [
    {
     "name": "stdin",
     "output_type": "stream",
     "text": [
      "Enter the electricity Unit 310\n"
     ]
    },
    {
     "name": "stdout",
     "output_type": "stream",
     "text": [
      "2200\n"
     ]
    }
   ],
   "source": [
    "#Q.3  Create a python program to compute the electricity bill for a household.\n",
    "#criteria mention below:\n",
    "#           Unit                                     Price\n",
    "#first 100 unit                                      4.5\n",
    "#next 100 unit                                        6\n",
    "#next 100 unit                                       10\n",
    "#after 300 unit                                      20\n",
    "\n",
    "#(for example if unit of month is 310 , the total electricity bill  should be 2250)\n",
    "\n",
    "#Solution:\n",
    "\n",
    "unit = int(input(\"Enter the electricity Unit\"))\n",
    "bill = 0\n",
    "if (unit==100):\n",
    "    bill=unit*4.5\n",
    "elif(unit>100 and unit<=200):\n",
    "    bill=100*4.5+(unit-100)*6\n",
    "elif(unit>200 and unit<=300):\n",
    "    bill=100*4+100*6+(unit-200)*10\n",
    "else:\n",
    "    bill=100*4+100*6+100*10+(unit-300)*20\n",
    "print(bill)\n"
   ]
  },
  {
   "cell_type": "code",
   "execution_count": 2,
   "id": "87c9984b-e58e-4ec0-b4e0-ea4f62f6a2c3",
   "metadata": {},
   "outputs": [
    {
     "name": "stdout",
     "output_type": "stream",
     "text": [
      "[2, 4, 5, 6, 8, 10, 12, 14, 15, 16, 18, 20, 22, 24, 25, 26, 28, 30, 32, 34, 35, 36, 38, 40, 42, 44, 45, 46, 48, 50, 52, 54, 55, 56, 58, 60, 62, 64, 65, 66, 68, 70, 72, 74, 75, 76, 78, 80, 82, 84, 85, 86, 88, 90, 92, 94, 95, 96, 98, 100]\n"
     ]
    }
   ],
   "source": [
    "#Q.4 create a list of numbers 1 to 100. use for loop  and while loop to calculate the cube  of each  numbers  and if the cube of that numbers is divisibke by 4 or 5  than append that numbers in a list  and print  that list.\n",
    "\n",
    "\n",
    "# Using for loop\n",
    "#Using for loop\n",
    "\n",
    "numbers = list(range(1,101))\n",
    "result = []\n",
    "\n",
    "for num in numbers:\n",
    "    cube = num **3\n",
    "    if cube % 4 == 0 or cube % 5 == 0:\n",
    "        result.append(num)\n",
    "\n",
    "print(result)"
   ]
  },
  {
   "cell_type": "code",
   "execution_count": 3,
   "id": "0f2cdee3-a7cb-4750-9dc6-6d90f63f4c16",
   "metadata": {},
   "outputs": [
    {
     "name": "stdout",
     "output_type": "stream",
     "text": [
      "[2, 4, 5, 6, 8, 10, 12, 14, 15, 16, 18, 20, 22, 24, 25, 26, 28, 30, 32, 34, 35, 36, 38, 40, 42, 44, 45, 46, 48, 50, 52, 54, 55, 56, 58, 60, 62, 64, 65, 66, 68, 70, 72, 74, 75, 76, 78, 80, 82, 84, 85, 86, 88, 90, 92, 94, 95, 96, 98, 100]\n"
     ]
    }
   ],
   "source": [
    "# Using while loop\n",
    "\n",
    "numbers = list(range(1,101))\n",
    "result = []\n",
    "i=0\n",
    "\n",
    "while i < len(numbers):\n",
    "    cube = numbers[i]**3\n",
    "    if cube % 4 == 0 or cube % 5 == 0:\n",
    "        result.append(numbers[i])\n",
    "    i += 1\n",
    "print(result)\n"
   ]
  },
  {
   "cell_type": "code",
   "execution_count": 5,
   "id": "6b38cbeb-b696-49ac-8ccb-29ec3bb0bec6",
   "metadata": {},
   "outputs": [],
   "source": [
    "#Q.5 Write a program  to filter  count  vowels  in the below string.\n",
    "#string = \"I want to become  a data scientist.\"\n",
    "\n",
    "string = \"I want to become a data scientist\"\n",
    "vowels = 'aeiou'\n",
    "count = 0\n",
    "for char in string:\n",
    "    if char.lower"
   ]
  },
  {
   "cell_type": "code",
   "execution_count": null,
   "id": "eaa8de30-668f-43c8-a1e9-3edb78809a21",
   "metadata": {},
   "outputs": [],
   "source": []
  }
 ],
 "metadata": {
  "kernelspec": {
   "display_name": "Python 3 (ipykernel)",
   "language": "python",
   "name": "python3"
  },
  "language_info": {
   "codemirror_mode": {
    "name": "ipython",
    "version": 3
   },
   "file_extension": ".py",
   "mimetype": "text/x-python",
   "name": "python",
   "nbconvert_exporter": "python",
   "pygments_lexer": "ipython3",
   "version": "3.10.8"
  }
 },
 "nbformat": 4,
 "nbformat_minor": 5
}
